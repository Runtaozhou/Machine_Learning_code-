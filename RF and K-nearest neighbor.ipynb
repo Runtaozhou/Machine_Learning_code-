{
 "cells": [
  {
   "cell_type": "code",
   "execution_count": 4,
   "metadata": {},
   "outputs": [
    {
     "name": "stdout",
     "output_type": "stream",
     "text": [
      "accuracy for random forest is:  0.9777777777777777\n"
     ]
    }
   ],
   "source": [
    "from sklearn.ensemble import RandomForestClassifier\n",
    "from sklearn import datasets\n",
    "iris = datasets.load_iris()\n",
    "from sklearn.model_selection import train_test_split\n",
    "X = iris.data[:,[2,3]]\n",
    "y = iris.target\n",
    "X_train,X_test,y_train,y_test = train_test_split(X,y,test_size=0.3,random_state=1,stratify=y)\n",
    "from sklearn.preprocessing import StandardScaler\n",
    "ss= StandardScaler()\n",
    "X_train_std = ss.fit_transform(X_train)\n",
    "X_test_std = ss.fit_transform(X_test)\n",
    "forest = RandomForestClassifier(criterion =\"gini\",n_estimators=25,random_state=1,n_jobs=2)\n",
    "prediction = forest.fit(X_train_std,y_train).predict(X_test_std)\n",
    "from sklearn.metrics import accuracy_score\n",
    "print('accuracy for random forest is: ',accuracy_score(prediction,y_test))"
   ]
  },
  {
   "cell_type": "code",
   "execution_count": 13,
   "metadata": {},
   "outputs": [
    {
     "name": "stdout",
     "output_type": "stream",
     "text": [
      "accuracy for random forest is:  0.9777777777777777\n"
     ]
    }
   ],
   "source": [
    "\"\"\" this is k nearest neighbor algo, it is interesting because it doesn't\n",
    "actually compute a function to map the new data to a class. it actually \n",
    "memorize the training data and find the class by majority vote from k nearest \n",
    "neighbors\"\"\"\n",
    "from sklearn.neighbors import KNeighborsClassifier\n",
    "snn = KNeighborsClassifier(n_neighbors =105,p=2,metric='minkowski')\n",
    "prediction1 = snn.fit(X_train_std,y_train).predict(X_test_std)\n",
    "from sklearn.metrics import accuracy_score\n",
    "print('accuracy for random forest is: ',accuracy_score(prediction,y_test))\n"
   ]
  },
  {
   "cell_type": "code",
   "execution_count": null,
   "metadata": {},
   "outputs": [],
   "source": []
  },
  {
   "cell_type": "code",
   "execution_count": null,
   "metadata": {},
   "outputs": [],
   "source": []
  }
 ],
 "metadata": {
  "kernelspec": {
   "display_name": "Python 3",
   "language": "python",
   "name": "python3"
  },
  "language_info": {
   "codemirror_mode": {
    "name": "ipython",
    "version": 3
   },
   "file_extension": ".py",
   "mimetype": "text/x-python",
   "name": "python",
   "nbconvert_exporter": "python",
   "pygments_lexer": "ipython3",
   "version": "3.8.5"
  }
 },
 "nbformat": 4,
 "nbformat_minor": 4
}
