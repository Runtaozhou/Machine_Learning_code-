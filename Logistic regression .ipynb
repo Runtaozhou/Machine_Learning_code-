{
 "cells": [
  {
   "cell_type": "code",
   "execution_count": 32,
   "metadata": {},
   "outputs": [
    {
     "data": {
      "image/png": "[encoded data removed]",
      "text/plain": [
       "<Figure size 432x288 with 1 Axes>"
      ]
     },
     "metadata": {
      "needs_background": "light"
     },
     "output_type": "display_data"
    }
   ],
   "source": [
    "import matplotlib.pyplot as plt\n",
    "import numpy as np\n",
    "from matplotlib.colors import ListedColormap\n",
    "def sigmoid(z):\n",
    "    return 1.0/(1.0+np.exp(-z))\n",
    "z = np.arange(-7,7,0.1)\n",
    "phi_z = sigmoid(z)\n",
    "plt.plot(z,phi_z)\n",
    "plt.axvline(0.0,color=\"r\")\n",
    "plt.ylim(-0.1,1.1)\n",
    "plt.xlabel('z')\n",
    "plt.ylabel('$\\phi (z)$')\n",
    "plt.yticks([0.0,0.5,1.0])\n",
    "plt.xticks([-6,0,6])\n",
    "ax = plt.gca()\n",
    "ax.xaxis.grid(True)\n"
   ]
  },
  {
   "cell_type": "code",
   "execution_count": 33,
   "metadata": {},
   "outputs": [],
   "source": [
    "class LogisticRegression:\n",
    "    \"\"\"Logistic Regression Classifier using gradient descent.\n",
    "       Parameters\n",
    "       ------------\n",
    "       eta : float\n",
    "         Learning rate (between 0.0 and 1.0)\n",
    "       n_iter : int\n",
    "         Passes over the training dataset.\n",
    "       random_state : int\n",
    "         Random number generator seed for random weight\n",
    "         initialization.\n",
    "       Attributes\n",
    "       -----------\n",
    "       w_ : 1d-array\n",
    "         Weights after fitting.\n",
    "       cost_ : list\n",
    "       Sum-of-squares cost function value in each epoch.\n",
    "\"\"\"\n",
    "    def __init__(self, eta=0.01,n_iter = 100, random_state=1):\n",
    "        self.eta=eta\n",
    "        self.n_iter=n_iter\n",
    "        self.random_state = random_state\n",
    "    def fit(self,X,y):\n",
    "        rgen = np.random.RandomState(self.random_state)\n",
    "        self.w_ = rgen.normal(loc=0.0,scale =0.01,size=1+X.shape[1])\n",
    "        self.cost_=[]\n",
    "        \n",
    "        for i in range (self.n_iter):\n",
    "            net_input = self.net_input(X)\n",
    "            output = self.activation(net_input)\n",
    "            errors = (y-output)\n",
    "            self.w_[1:] += self.eta*X.T.dot(errors)\n",
    "            self.w_[0] += self.eta*errors.sum()\n",
    "            cost = (-y.dot(np.log(output))-((1-y).dot(np.log(1-output))))\n",
    "            self.cost_.append(cost)\n",
    "        return self\n",
    "    def net_input(self, X ):\n",
    "        return np.dot(X,self.w_[1:])+self.w_[0]\n",
    "    def activation(self, z):\n",
    "        return 1./(1.+np.exp(-np.clip(z,-250,250)))\n",
    "    def predict(self,X):\n",
    "        return np.where(self.net_input(X)>=0.0,1,0)\n",
    "    \n",
    "    "
   ]
  },
  {
   "cell_type": "code",
   "execution_count": 40,
   "metadata": {},
   "outputs": [],
   "source": [
    "def plot_decision_regions(X,y, classifier,resolution = 0.01):\n",
    "    # set up the colormap;\n",
    "    markers = ('s','x','o','*','^','>')\n",
    "    colors = ('red','blue','green','yellow','blue','gray')\n",
    "    cmap = ListedColormap(colors[:len(np.unique(y))])\n",
    "    \n",
    "    x1_min,x1_max =X[:,0].min()-1,X[:,0].max()+1\n",
    "    x2_min,x2_max =X[:,1].min()-1,X[:,1].max()+1\n",
    "    xx1,xx2 = np.meshgrid(np.arange(x1_min,x1_max,resolution),np.arange(x2_min,x2_max,resolution))\n",
    "    Z = classifier.predict(np.array([xx1.ravel(),xx2.ravel()]).T)\n",
    "    Z =Z.reshape(xx1.shape)\n",
    "    plt.contourf(xx1,xx2,Z,alpha=0.5,cmap=cmap)\n",
    "    plt.xlim(xx1.min(),xx1.max())\n",
    "    plt.ylim(xx2.min(),xx2.max())\n",
    "    \n",
    "    for idx,cl in enumerate(np.unique(y)):\n",
    "        plt.scatter(x=X[y==cl,0],\n",
    "                   y=X[y==cl,1],\n",
    "                   alpha =1,\n",
    "                   c =colors[idx],\n",
    "                   marker =markers[idx],\n",
    "                   label =cl,\n",
    "                    s=10,\n",
    "                   edgecolor ='black')"
   ]
  },
  {
   "cell_type": "code",
   "execution_count": 34,
   "metadata": {},
   "outputs": [
    {
     "name": "stdout",
     "output_type": "stream",
     "text": [
      "lable counts in y: [50 50]\n",
      "lable counts in y train: [35 35]\n"
     ]
    }
   ],
   "source": [
    "from sklearn import datasets\n",
    "iris = datasets.load_iris()\n",
    "X_full = iris.data[:,[2,3]]\n",
    "y_full = iris.target\n",
    "\n",
    "X = iris.data[:100,[2,3]]\n",
    "y = iris.target[:100]\n",
    "from sklearn.model_selection import train_test_split\n",
    "X_train,X_test,y_train,y_test = train_test_split(X,y,test_size=0.3,random_state=1,stratify=y)\n",
    "print('lable counts in y:',np.bincount(y))\n",
    "print('lable counts in y train:',np.bincount(y_train))"
   ]
  },
  {
   "cell_type": "code",
   "execution_count": 35,
   "metadata": {},
   "outputs": [],
   "source": [
    "X_full_train,X_full_test,y_full_train,y_full_test = train_test_split(X_full,y_full,test_size=0.3,random_state=1,stratify=y_full)"
   ]
  },
  {
   "cell_type": "code",
   "execution_count": 50,
   "metadata": {},
   "outputs": [
    {
     "data": {
      "image/png": "[encoded data removed]",
      "text/plain": [
       "<Figure size 432x288 with 1 Axes>"
      ]
     },
     "metadata": {
      "needs_background": "light"
     },
     "output_type": "display_data"
    },
    {
     "name": "stdout",
     "output_type": "stream",
     "text": [
      "[1 1 0 0 0 1 1 1 0 0 1 1 1 0 1 1 0 1 0 0 0 0 0 1 1 0 0 1 1 0]\n",
      "[1 1 0 0 0 1 1 1 0 0 1 1 1 0 1 1 0 1 0 0 0 0 0 1 1 0 0 1 1 0]\n",
      " the accuracy score is 1.00\n"
     ]
    }
   ],
   "source": [
    "log = LogisticRegression()\n",
    "log = log.fit(X_train,y_train)\n",
    "plot_decision_regions(X,y,classifier=log)\n",
    "plt.show()\n",
    "print(log.predict(X_test))\n",
    "print(y_test)\n",
    "from sklearn.metrics import accuracy_score\n",
    "print(\" the accuracy score is %.2f\"%accuracy_score(log.predict(X_test),y_test))"
   ]
  },
  {
   "cell_type": "code",
   "execution_count": 37,
   "metadata": {},
   "outputs": [
    {
     "name": "stdout",
     "output_type": "stream",
     "text": [
      "[-0.07947458 -0.07947458 -0.0703536  -0.089664   -0.07947458 -0.15967613\n",
      " -0.09511527 -0.089664   -0.07947458 -0.07484558 -0.089664   -0.10101645\n",
      " -0.06621763 -0.04558214 -0.06220865 -0.12739774 -0.10086122 -0.09511527\n",
      " -0.135003   -0.10707672 -0.11362684 -0.12739774 -0.04849615 -0.1878791\n",
      " -0.14298787 -0.10101645 -0.14277839 -0.089664   -0.07947458 -0.10101645\n",
      " -0.10101645 -0.12739774 -0.07484558 -0.07947458 -0.089664   -0.06220865\n",
      " -0.0703536  -0.06621763 -0.0703536  -0.089664   -0.08436377 -0.08436377\n",
      " -0.0703536  -0.19800275 -0.19827451 -0.09511527 -0.10101645 -0.07947458\n",
      " -0.089664   -0.07947458  0.01392367  0.01487031  0.00883238  0.04144686\n",
      "  0.01305853  0.02188495  0.00943619  0.16406282  0.0192352   0.03893909\n",
      "  0.13103595  0.0219216   0.07238316  0.01392367  0.06824531  0.02053543\n",
      "  0.01487031  0.06401943  0.01487031  0.06813662  0.00560172  0.04144686\n",
      "  0.00883238  0.02050106  0.02829679  0.02053543  0.01222579  0.00524198\n",
      "  0.01487031  0.13103595  0.07699399  0.10383178  0.05665453  0.0055922\n",
      "  0.01487031  0.01224647  0.01146492  0.02489047  0.03651704  0.04144686\n",
      "  0.03014067  0.01585357  0.05001023  0.16406282  0.03215391  0.03887513\n",
      "  0.03215391  0.02829679  0.19312918  0.03651704]\n",
      "[0.7884599  1.14309955]\n"
     ]
    }
   ],
   "source": [
    "#print(log.w_)\n",
    "output = log.activation(log.net_input(X))\n",
    "#print(output)\n",
    "#print(output.shape)\n",
    "errors = y-output\n",
    "print(errors)\n",
    "test = X.T.dot(errors)\n",
    "print(test)\n",
    "\n"
   ]
  },
  {
   "cell_type": "code",
   "execution_count": 38,
   "metadata": {},
   "outputs": [
    {
     "name": "stdout",
     "output_type": "stream",
     "text": [
      "[0 1 0 0 0 0 1 0 1 0 0 0 0 1 1 1 1 1 1 0 1 1 1 0 0 0 0 1 1 1 1 0 1 1 1 0 1\n",
      " 1 0 1 1 1 0 0 1 1 0 1 0 1 0 0 0 0 0 0 1 0 1 1 1 1 0 0 1 0 0 0 1 0]\n",
      "the accuracy score is 1.00:\n"
     ]
    }
   ],
   "source": [
    "from sklearn.linear_model import LogisticRegression\n",
    "lr = LogisticRegression(C=100.0,random_state=1)\n",
    "from sklearn.preprocessing import StandardScaler\n",
    "sc = StandardScaler()\n",
    "X_train_std = sc.fit_transform(X_train)\n",
    "X_test_std = sc.fit_transform(X_test)\n",
    "X_full_train_std = sc.fit_transform(X_full_train)\n",
    "X_full_test_std = sc.fit_transform(X_full_test)\n",
    "lr.fit(X_train_std,y_train)\n",
    "#print(X_train)\n",
    "print(y_train)\n",
    "predicted = lr.predict(X_test_std)\n",
    "print(\"the accuracy score is %.2f:\"%accuracy_score(predicted,y_test))\n",
    "#print(y_test)"
   ]
  },
  {
   "cell_type": "code",
   "execution_count": 39,
   "metadata": {},
   "outputs": [
    {
     "name": "stdout",
     "output_type": "stream",
     "text": [
      "[1 1 0]\n"
     ]
    },
    {
     "data": {
      "text/plain": [
       "array([1, 1, 0])"
      ]
     },
     "execution_count": 39,
     "metadata": {},
     "output_type": "execute_result"
    }
   ],
   "source": [
    "print(lr.predict_proba(X_test_std[:3,:]).argmax(axis=1))\n",
    "\n",
    "lr.predict(X_test_std[:3,:])"
   ]
  },
  {
   "cell_type": "code",
   "execution_count": 45,
   "metadata": {},
   "outputs": [
    {
     "name": "stdout",
     "output_type": "stream",
     "text": [
      "(10, 0)\n",
      "(11, 1)\n",
      "(12, 2)\n"
     ]
    }
   ],
   "source": [
    "for i in enumerate(np.unique(y_full_train)):\n",
    "   \n",
    "   print(i) \n"
   ]
  },
  {
   "cell_type": "code",
   "execution_count": 30,
   "metadata": {},
   "outputs": [
    {
     "data": {
      "image/png": "[encoded data removed]",
      "text/plain": [
       "<Figure size 432x288 with 1 Axes>"
      ]
     },
     "metadata": {
      "needs_background": "light"
     },
     "output_type": "display_data"
    },
    {
     "name": "stdout",
     "output_type": "stream",
     "text": [
      "[2 0 0 1 1 1 2 1 2 0 0 2 0 1 0 1 2 1 1 2 2 0 1 2 1 1 1 2 0 2 0 0 1 1 2 2 0\n",
      " 0 0 1 2 2 1 0 0]\n",
      "[2 0 0 2 1 1 2 1 2 0 0 2 0 1 0 1 2 1 1 2 2 0 1 2 1 1 1 2 0 2 0 0 1 1 2 2 0\n",
      " 0 0 1 2 2 1 0 0]\n",
      "the accuracy_score is: 0.98\n"
     ]
    }
   ],
   "source": [
    "from sklearn.svm import SVC\n",
    "svm = SVC(kernel='linear',C=0.0001,random_state=1)\n",
    "svm.fit(X_full_train_std,y_full_train)\n",
    "plot_decision_regions(X_full_train_std,y_full_train,classifier=svm)\n",
    "plt.show()\n",
    "svm_prediction=svm.predict(X_full_test_std)\n",
    "print(svm_prediction)\n",
    "print(y_full_test)\n",
    "print('the accuracy_score is: %.2f'%accuracy_score(svm_prediction,y_full_test))"
   ]
  }
 ],
 "metadata": {
  "kernelspec": {
   "display_name": "Python 3",
   "language": "python",
   "name": "python3"
  },
  "language_info": {
   "codemirror_mode": {
    "name": "ipython",
    "version": 3
   },
   "file_extension": ".py",
   "mimetype": "text/x-python",
   "name": "python",
   "nbconvert_exporter": "python",
   "pygments_lexer": "ipython3",
   "version": "3.8.5"
  }
 },
 "nbformat": 4,
 "nbformat_minor": 4
}
