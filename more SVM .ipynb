{
 "cells": [
  {
   "cell_type": "code",
   "execution_count": 216,
   "metadata": {},
   "outputs": [],
   "source": [
    "import numpy as np\n",
    "import matplotlib.pyplot as plt\n",
    "from sklearn import svm\n",
    "from matplotlib.colors import ListedColormap\n",
    "from sklearn.datasets import make_blobs"
   ]
  },
  {
   "cell_type": "code",
   "execution_count": 205,
   "metadata": {},
   "outputs": [],
   "source": [
    "X,y = make_blobs(n_samples=60,n_features=2,centers=2,random_state=19,center_box=(2,10),shuffle=True)"
   ]
  },
  {
   "cell_type": "code",
   "execution_count": 206,
   "metadata": {},
   "outputs": [
    {
     "data": {
      "text/plain": [
       "array([0, 1, 0, 1, 1, 1, 0, 1, 0, 1, 1, 0, 1, 1, 1, 0, 0, 1, 1, 0, 1, 1,\n",
       "       1, 0, 0, 1, 1, 0, 1, 0, 0, 1, 0, 0, 0, 1, 1, 0, 0, 0, 1, 1, 0, 0,\n",
       "       0, 0, 0, 0, 1, 1, 0, 0, 1, 1, 1, 0, 0, 0, 1, 1])"
      ]
     },
     "execution_count": 206,
     "metadata": {},
     "output_type": "execute_result"
    }
   ],
   "source": [
    "y"
   ]
  },
  {
   "cell_type": "code",
   "execution_count": 207,
   "metadata": {},
   "outputs": [
    {
     "data": {
      "text/plain": [
       "array([[ 2.57229322,  7.84832367],\n",
       "       [ 3.07215322,  3.05421276],\n",
       "       [ 4.33581271,  7.15669781],\n",
       "       [ 4.22155415,  3.17288785],\n",
       "       [ 2.39833766,  3.67378803],\n",
       "       [ 4.76750188,  2.91456174],\n",
       "       [ 2.56253775,  6.86941035],\n",
       "       [ 2.67838483,  1.79612083],\n",
       "       [ 2.89225842,  6.89804568],\n",
       "       [ 2.33054371,  3.95831447],\n",
       "       [ 4.42774323,  3.56325925],\n",
       "       [ 4.75867756, 10.00744241],\n",
       "       [ 3.44515455,  2.01612413],\n",
       "       [ 3.75660137,  3.30872354],\n",
       "       [ 5.2095008 ,  1.93237605],\n",
       "       [ 3.24000384,  8.04148107],\n",
       "       [ 2.96204273,  7.67331679],\n",
       "       [ 3.31266236,  3.28042332],\n",
       "       [ 3.26655311,  3.28125341],\n",
       "       [ 3.81561255,  8.67075114],\n",
       "       [ 2.92010837,  1.87357414],\n",
       "       [ 3.21758823,  1.85280082],\n",
       "       [ 4.56183654,  1.26557994],\n",
       "       [ 3.03268255,  6.62745178],\n",
       "       [ 3.30305456,  9.43215261],\n",
       "       [ 3.46162167,  1.85308037],\n",
       "       [ 3.14857598,  1.62269584],\n",
       "       [ 1.01961522,  9.24022168],\n",
       "       [ 5.28431623,  4.05331021],\n",
       "       [ 2.13518867,  8.15034589],\n",
       "       [ 3.30680306,  7.94003315],\n",
       "       [ 1.90950652,  4.2031883 ],\n",
       "       [ 2.81979216,  8.80613827],\n",
       "       [ 3.19575073,  7.3881216 ],\n",
       "       [ 2.17697939,  7.84614545],\n",
       "       [ 5.22201491,  1.66184382],\n",
       "       [ 3.21039741,  4.43247769],\n",
       "       [ 2.50799026,  8.39798299],\n",
       "       [ 2.77937261,  7.07400533],\n",
       "       [ 3.32819925,  8.9351462 ]])"
      ]
     },
     "execution_count": 207,
     "metadata": {},
     "output_type": "execute_result"
    }
   ],
   "source": [
    "X_train = X[:40,]\n",
    "y_train = y[:40]\n",
    "X_test=X[41:60,]\n",
    "y_test = y[41:60]\n",
    "X_train\n"
   ]
  },
  {
   "cell_type": "code",
   "execution_count": 232,
   "metadata": {},
   "outputs": [
    {
     "data": {
      "text/plain": [
       "SVC(C=100000000, kernel='linear')"
      ]
     },
     "execution_count": 232,
     "metadata": {},
     "output_type": "execute_result"
    }
   ],
   "source": [
    "model = svm.SVC(kernel = 'linear',C=100000000)\n",
    "model.fit(X,y)\n"
   ]
  },
  {
   "cell_type": "code",
   "execution_count": 209,
   "metadata": {},
   "outputs": [
    {
     "data": {
      "text/plain": [
       "array([1, 0, 0, 0, 0, 0, 0, 1, 1, 0, 0, 1, 1, 1, 0, 0, 0, 1, 1])"
      ]
     },
     "execution_count": 209,
     "metadata": {},
     "output_type": "execute_result"
    }
   ],
   "source": [
    "prediction"
   ]
  },
  {
   "cell_type": "code",
   "execution_count": 210,
   "metadata": {},
   "outputs": [
    {
     "data": {
      "text/plain": [
       "<matplotlib.collections.PathCollection at 0x7f8bc34b4910>"
      ]
     },
     "execution_count": 210,
     "metadata": {},
     "output_type": "execute_result"
    },
    {
     "data": {
      "image/png": "[encoded data removed]",
      "text/plain": [
       "<Figure size 432x288 with 1 Axes>"
      ]
     },
     "metadata": {
      "needs_background": "light"
     },
     "output_type": "display_data"
    }
   ],
   "source": [
    "y_double = 2*y_train\n",
    "plt.scatter(X_train[:,0],X_train[:,1],c=y_double,cmap='winter')\n"
   ]
  },
  {
   "cell_type": "code",
   "execution_count": 228,
   "metadata": {},
   "outputs": [],
   "source": [
    "def plot_decision_regions(X,y, classifier,resolution = 0.1):\n",
    "    # set up the colormap;\n",
    "    markers = ('s','x','o','*','^','>')\n",
    "    colors = ('red','blue','green','yellow','blue','gray')\n",
    "    cmap = ListedColormap(colors[:len(np.unique(y))])\n",
    "    \n",
    "    x1_min,x1_max =X[:,0].min()-1,X[:,0].max()+1\n",
    "    x2_min,x2_max =X[:,1].min()-1,X[:,1].max()+1\n",
    "    xx1,xx2 = np.meshgrid(np.arange(x1_min,x1_max,resolution),np.arange(x2_min,x2_max,resolution))\n",
    "    Z = classifier.predict(np.array([xx1.ravel(),xx2.ravel()]).T)\n",
    "    Z =Z.reshape(xx1.shape)\n",
    "    plt.contourf(xx1,xx2,Z,alpha=0.5,cmap=cmap)\n",
    "    plt.xlim(xx1.min(),xx1.max())\n",
    "    plt.ylim(xx2.min(),xx2.max())\n",
    "    \n",
    "    for idx,cl in enumerate(np.unique(y)):\n",
    "        plt.scatter(x=X[y==cl,0],\n",
    "                   y=X[y==cl,1],\n",
    "                   alpha =1,\n",
    "                   c =colors[idx],\n",
    "                   marker =markers[idx],\n",
    "                   label =cl,\n",
    "                   edgecolor ='black')\n",
    "        \n",
    "        \n",
    "                    \n",
    "        \n",
    "    \n",
    "    \n",
    "    \n",
    "    "
   ]
  },
  {
   "cell_type": "code",
   "execution_count": 233,
   "metadata": {},
   "outputs": [
    {
     "data": {
      "image/png": "[encoded data removed]",
      "text/plain": [
       "<Figure size 432x288 with 1 Axes>"
      ]
     },
     "metadata": {
      "needs_background": "light"
     },
     "output_type": "display_data"
    }
   ],
   "source": [
    "plot_decision_regions(X,y,classifier=model)\n",
    "plt.show()"
   ]
  },
  {
   "cell_type": "code",
   "execution_count": null,
   "metadata": {},
   "outputs": [],
   "source": []
  }
 ],
 "metadata": {
  "kernelspec": {
   "display_name": "Python 3",
   "language": "python",
   "name": "python3"
  },
  "language_info": {
   "codemirror_mode": {
    "name": "ipython",
    "version": 3
   },
   "file_extension": ".py",
   "mimetype": "text/x-python",
   "name": "python",
   "nbconvert_exporter": "python",
   "pygments_lexer": "ipython3",
   "version": "3.8.5"
  }
 },
 "nbformat": 4,
 "nbformat_minor": 4
}
